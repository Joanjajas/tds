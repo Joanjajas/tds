{
 "cells": [
  {
   "cell_type": "code",
   "execution_count": 2,
   "metadata": {},
   "outputs": [],
   "source": [
    "import subprocess\n",
    "\n",
    "from scipy.io import loadmat"
   ]
  },
  {
   "cell_type": "code",
   "execution_count": 3,
   "metadata": {},
   "outputs": [
    {
     "name": "stderr",
     "output_type": "stream",
     "text": [
      "Error using audioread>readaudio (line 167)\n",
      "The filename specified was not found in the MATLAB path.\n",
      "\n",
      "Error in audioread (line 160)\n",
      "    [y, Fs] = readaudio (filename, range, datatype);\n",
      "\n",
      "Error in extract_features (line 2)\n",
      "    [audioIn,fs] = audioread(audioPath);\n",
      " \n"
     ]
    },
    {
     "ename": "NameError",
     "evalue": "name 'loadmat' is not defined",
     "output_type": "error",
     "traceback": [
      "\u001b[0;31m---------------------------------------------------------------------------\u001b[0m",
      "\u001b[0;31mNameError\u001b[0m                                 Traceback (most recent call last)",
      "Cell \u001b[0;32mIn[3], line 6\u001b[0m\n\u001b[1;32m      4\u001b[0m command \u001b[38;5;241m=\u001b[39m \u001b[38;5;124mf\u001b[39m\u001b[38;5;124m\"\u001b[39m\u001b[38;5;132;01m{\u001b[39;00mMATLAB_PATH\u001b[38;5;132;01m}\u001b[39;00m\u001b[38;5;124m -batch \u001b[39m\u001b[38;5;130;01m\\\"\u001b[39;00m\u001b[38;5;124mextract_features(\u001b[39m\u001b[38;5;124m'\u001b[39m\u001b[38;5;124mseis_1_1.wav\u001b[39m\u001b[38;5;124m'\u001b[39m\u001b[38;5;124m)\u001b[39m\u001b[38;5;130;01m\\\"\u001b[39;00m\u001b[38;5;124m\"\u001b[39m\n\u001b[1;32m      5\u001b[0m subprocess\u001b[38;5;241m.\u001b[39mrun(command, shell\u001b[38;5;241m=\u001b[39m\u001b[38;5;28;01mTrue\u001b[39;00m)\n\u001b[0;32m----> 6\u001b[0m desciptor \u001b[38;5;241m=\u001b[39m \u001b[43mloadmat\u001b[49m(\u001b[38;5;124m\"\u001b[39m\u001b[38;5;124mdescriptor.mat\u001b[39m\u001b[38;5;124m\"\u001b[39m)\n\u001b[1;32m      7\u001b[0m desciptor \u001b[38;5;241m=\u001b[39m desciptor[\u001b[38;5;124m\"\u001b[39m\u001b[38;5;124mdescriptor\u001b[39m\u001b[38;5;124m\"\u001b[39m]\n\u001b[1;32m      9\u001b[0m \u001b[38;5;66;03m# normalize the data\u001b[39;00m\n",
      "\u001b[0;31mNameError\u001b[0m: name 'loadmat' is not defined"
     ]
    }
   ],
   "source": [
    "# path to your MATLAB installation binrary\n",
    "MATLAB_PATH = \"/Applications/MATLAB_R2024a.app/bin/matlab\"\n",
    "\n",
    "command = f\"{MATLAB_PATH} -batch \\\"extract_features('seis_1_1.wav')\\\"\"\n",
    "subprocess.run(command, shell=True)\n",
    "desciptor = loadmat(\"descriptor.mat\")\n",
    "desciptor = desciptor[\"descriptor\"]\n",
    "\n",
    "# normalize the data\n",
    "desciptor = (desciptor - x_train_mean) / x_train_std\n",
    "\n",
    "testset = torch.tensor(desciptor, dtype=torch.float32)\n",
    "testloader = DataLoader(testset, batch_size=1, shuffle=False)\n",
    "\n",
    "# Load the model\n",
    "red1 = Net(hidden_dim=[128, 128], dropout=0.25, activation=nn.ELU())\n",
    "red1.load_state_dict(torch.load(\"model.pth\"))\n",
    "red1.eval()\n",
    "\n",
    "# Make predictions\n",
    "with torch.no_grad():\n",
    "    predictions = []\n",
    "    for num in testloader:\n",
    "        num = num.to(\"cpu\")\n",
    "        outputs = red1(num)\n",
    "        _, predicted = torch.max(outputs, 1)\n",
    "        predictions.append(predicted.item())\n",
    "\n",
    "print(\"Predicted number:\", predictions[0])"
   ]
  }
 ],
 "metadata": {
  "kernelspec": {
   "display_name": ".venv",
   "language": "python",
   "name": "python3"
  },
  "language_info": {
   "codemirror_mode": {
    "name": "ipython",
    "version": 3
   },
   "file_extension": ".py",
   "mimetype": "text/x-python",
   "name": "python",
   "nbconvert_exporter": "python",
   "pygments_lexer": "ipython3",
   "version": "3.12.3"
  }
 },
 "nbformat": 4,
 "nbformat_minor": 2
}
