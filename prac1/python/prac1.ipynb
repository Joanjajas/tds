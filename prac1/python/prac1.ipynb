{
 "cells": [
  {
   "cell_type": "code",
   "execution_count": null,
   "metadata": {},
   "outputs": [],
   "source": [
    "import matplotlib.pyplot as plt\n",
    "import numpy as np\n",
    "import os\n",
    "import scipy.io.wavfile as wav\n",
    "import sys\n",
    "import sounddevice as sd\n",
    "\n",
    "# Add the current directory to the path so we can import our modules\n",
    "sys.path.append(\".\")\n",
    "\n",
    "from plot import plot_continuous, plot_continuous_discrete\n",
    "from frames import non_overlapping_frames, overlapping_frames\n",
    "from fundamental_frecuency import calculate_fundamental_frequency\n",
    "from collections import namedtuple"
   ]
  },
  {
   "cell_type": "markdown",
   "metadata": {},
   "source": [
    "## Ejercicio 1.1\n",
    "Escuchamos las señales y las representamos en el tiempo continuo y en discreto."
   ]
  },
  {
   "cell_type": "code",
   "execution_count": null,
   "metadata": {},
   "outputs": [],
   "source": [
    "AUDIO_DIR = \"../audio\"\n",
    "\n",
    "# set numpy print options to print only 10 elements of an array\n",
    "np.set_printoptions(threshold=10)\n",
    "\n",
    "# Create a named tuple to represent a signal\n",
    "Signal = namedtuple(\"Signal\", [\"y\", \"fs\", \"file\"])\n",
    "\n",
    "# Read all the .wav files in the audio directory\n",
    "signals = []\n",
    "for file in sorted(os.listdir(AUDIO_DIR)):\n",
    "    if file.endswith(\".wav\"):\n",
    "        # get the signal and the sampling frequency\n",
    "        fs, y = wav.read(os.path.join(AUDIO_DIR, file))\n",
    "\n",
    "        # normalize the signal to match matlab behavior\n",
    "        # signals are 16 bit signed integers\n",
    "        y = y / 2**15\n",
    "\n",
    "        # create a Signal object and append it to the list\n",
    "        signals.append(Signal(y, fs, file))\n",
    "\n",
    "# Plot and play the signals\n",
    "for signal in signals:\n",
    "    plot_continuous_discrete(signal.y, signal.fs, title=signal.file)\n",
    "\n",
    "    # Play the audio\n",
    "    # sd.play(signal.y, signal.fs)\n",
    "    # sd.wait()"
   ]
  },
  {
   "cell_type": "markdown",
   "metadata": {},
   "source": [
    "## Ejercicio 1.2\n",
    "Representamos un tramo de 100ms de cada señal en tiempo continuo y calculamos la potencia media, la energía y el periodo fundamental de las señales que sean periodicas."
   ]
  },
  {
   "cell_type": "code",
   "execution_count": null,
   "metadata": {},
   "outputs": [],
   "source": [
    "# values chosen by hand to get the relevant part of the signals\n",
    "# frames_start = [15000, 14000, 1000, 18000, 12300]\n",
    "frames_start = {\n",
    "    \"sound1.wav\": 15000,\n",
    "    \"sound2.wav\": 14000,\n",
    "    \"sound3.wav\": 1000,\n",
    "    \"sound4.wav\": 18000,\n",
    "    \"sound5.wav\": 12300,\n",
    "}\n",
    "\n",
    "for signal in signals:\n",
    "    # calculate the length of the frames\n",
    "    frame_duration = 0.1\n",
    "    yframe_len = round(frame_duration * signal.fs)\n",
    "\n",
    "    # extract the frames from the original signals.\n",
    "    yframe = signal.y[\n",
    "        frames_start[signal.file] : frames_start[signal.file] + yframe_len\n",
    "    ]\n",
    "\n",
    "    # plot the frames\n",
    "    plot_continuous(yframe, signal.fs, title=f\"{signal.file} frame\")\n",
    "\n",
    "    # calculate the fundamental frequency of the signals\n",
    "    fundamental_frequency = calculate_fundamental_frequency(yframe, signal.fs)\n",
    "    print(f\"Fundamental frecuecny of signal {signal.file}: {fundamental_frequency} hz\")\n",
    "\n",
    "    # calculate the power and energy of the signals\n",
    "    print(f\"Power of signal {signal.file}: {(signal.y ** 2).mean()} W\")\n",
    "    print(f\"Energy of signal {signal.file}: {(signal.y ** 2).sum()} J\")"
   ]
  },
  {
   "cell_type": "markdown",
   "metadata": {},
   "source": [
    "## Ejercicio 1.3\n",
    "Calculamos la energía de las señales en tramas de 100ms sin solape y las representamos."
   ]
  },
  {
   "cell_type": "code",
   "execution_count": null,
   "metadata": {},
   "outputs": [],
   "source": [
    "E_frames = []\n",
    "\n",
    "for signal in signals:\n",
    "    # get the energy of the signals in overlapping frames of 100ms\n",
    "    frame_duration = 0.1\n",
    "    E_frame = (non_overlapping_frames(signal.y, signal.fs, frame_duration) ** 2).sum(\n",
    "        axis=0\n",
    "    )\n",
    "    E_frames.append(E_frame)\n",
    "\n",
    "    # plot the energy of the signals in continuous time\n",
    "    fs = 1 / frame_duration\n",
    "    plot_continuous(E_frame, fs, title=f\"{signal.file} energy\", ylabel=\"Energy (J)\")\n",
    "    print(f\"Energy of signal {signal.file} (non overlapping frames): {E_frame} J\")\n",
    "\n",
    "for E_frame in E_frames:\n",
    "    # add the energy of the signal to the final plot with the energy of all the signals\n",
    "    t = np.arange(len(E_frame)) * signal.fs\n",
    "    plt.plot(t, E_frame)\n",
    "\n",
    "# plot the energy of all the signals in discrete time\n",
    "plt.xlabel(\"n\")\n",
    "plt.ylabel(\"Energy (J)\")\n",
    "plt.title(\"Energy of the signals (non overlapping frames)\")\n",
    "plt.legend([signal.file for signal in signals])\n",
    "plt.show()"
   ]
  },
  {
   "cell_type": "markdown",
   "metadata": {},
   "source": [
    "## Ejercicio 1.4\n",
    "Calculamos la energía de las señales en tramas de 20ms con solape y las representamos."
   ]
  },
  {
   "cell_type": "code",
   "execution_count": null,
   "metadata": {},
   "outputs": [],
   "source": [
    "E_frames = []\n",
    "\n",
    "for signal in signals:\n",
    "    # get the energy of the signals in overlapping frames of 100ms\n",
    "    overlap = 0.5\n",
    "    frame_duration = 0.02\n",
    "    E_frame = (\n",
    "        overlapping_frames(signal.y, signal.fs, frame_duration, overlap) ** 2\n",
    "    ).sum(axis=0)\n",
    "    E_frames.append(E_frame)\n",
    "\n",
    "    # plot the energy of the signals in continuous time\n",
    "    fs = 1 / (frame_duration * overlap)\n",
    "    plot_continuous(E_frame, fs, title=f\"{signal.file} energy\", ylabel=\"Energy (J)\")\n",
    "    print(f\"Energy of signal {signal.file} (non overlapping frames): {E_frame} J\")\n",
    "\n",
    "for E_frame in E_frames:\n",
    "    # add the energy of the signal to the final plot with the energy of all the signals\n",
    "    t = np.arange(len(E_frame)) * signal.fs\n",
    "    plt.plot(t, E_frame)\n",
    "\n",
    "# plot the energy of all the signals in discrete time\n",
    "plt.xlabel(\"n\")\n",
    "plt.ylabel(\"Energy (J)\")\n",
    "plt.title(\"Energy of the signals (non overlapping frames)\")\n",
    "plt.legend([signal.file for signal in signals])\n",
    "plt.show()"
   ]
  }
 ],
 "metadata": {
  "kernelspec": {
   "display_name": "Python 3",
   "language": "python",
   "name": "python3"
  },
  "language_info": {
   "codemirror_mode": {
    "name": "ipython",
    "version": 3
   },
   "file_extension": ".py",
   "mimetype": "text/x-python",
   "name": "python",
   "nbconvert_exporter": "python",
   "pygments_lexer": "ipython3",
   "version": "3.12.2"
  }
 },
 "nbformat": 4,
 "nbformat_minor": 2
}
